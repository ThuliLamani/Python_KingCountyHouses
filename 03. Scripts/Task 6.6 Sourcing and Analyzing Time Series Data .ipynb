{
 "cells": [
  {
   "cell_type": "markdown",
   "id": "50a49dc5",
   "metadata": {},
   "source": [
    "## Contents "
   ]
  },
  {
   "cell_type": "markdown",
   "id": "4838bf56",
   "metadata": {},
   "source": [
    "#### 01. Importing libraries and data\n",
    "\n",
    "#### 02. Subsetting, wrangling and cleaning data\n",
    "\n",
    "#### 03. Testing for stationarity\n",
    "\n",
    "#### 04. Stationarizing the data"
   ]
  },
  {
   "cell_type": "markdown",
   "id": "b089404f",
   "metadata": {},
   "source": [
    "### 01. Importing libraries and data"
   ]
  },
  {
   "cell_type": "code",
   "execution_count": 1,
   "id": "974da4da",
   "metadata": {},
   "outputs": [],
   "source": [
    "import quandl\n",
    "import pandas as pd\n",
    "import numpy as np\n",
    "import seaborn as sns\n",
    "import matplotlib\n",
    "import matplotlib.pyplot as plt\n",
    "import statsmodels.api as sm \n",
    "import os\n",
    "import warnings \n",
    "\n",
    "warnings.filterwarnings(\"ignore\") \n",
    "\n",
    "plt.style.use('fivethirtyeight') "
   ]
  },
  {
   "cell_type": "code",
   "execution_count": 2,
   "id": "29afa483",
   "metadata": {},
   "outputs": [],
   "source": [
    "path = 'C:/Users/David/Desktop/Career Foundry/King County house sales'"
   ]
  },
  {
   "cell_type": "code",
   "execution_count": 3,
   "id": "4b1e59f5",
   "metadata": {},
   "outputs": [],
   "source": [
    "# Import KC house sales data using path \n",
    "kc_houses = pd.read_csv(os.path.join(path, '02. Data', '02. Prepared Data', 'kc_houses_updated2.csv'))"
   ]
  },
  {
   "cell_type": "code",
   "execution_count": 4,
   "id": "bab6e103",
   "metadata": {},
   "outputs": [
    {
     "data": {
      "text/html": [
       "<div>\n",
       "<style scoped>\n",
       "    .dataframe tbody tr th:only-of-type {\n",
       "        vertical-align: middle;\n",
       "    }\n",
       "\n",
       "    .dataframe tbody tr th {\n",
       "        vertical-align: top;\n",
       "    }\n",
       "\n",
       "    .dataframe thead th {\n",
       "        text-align: right;\n",
       "    }\n",
       "</style>\n",
       "<table border=\"1\" class=\"dataframe\">\n",
       "  <thead>\n",
       "    <tr style=\"text-align: right;\">\n",
       "      <th></th>\n",
       "      <th>Unnamed: 0</th>\n",
       "      <th>house_id</th>\n",
       "      <th>date_sold</th>\n",
       "      <th>price</th>\n",
       "      <th>bedrooms</th>\n",
       "      <th>bathrooms</th>\n",
       "      <th>sqft_living</th>\n",
       "      <th>sqft_lot</th>\n",
       "      <th>floors</th>\n",
       "      <th>waterfront</th>\n",
       "      <th>...</th>\n",
       "      <th>sqft_above</th>\n",
       "      <th>sqft_basement</th>\n",
       "      <th>year_built</th>\n",
       "      <th>year_renovated</th>\n",
       "      <th>zipcode</th>\n",
       "      <th>lat</th>\n",
       "      <th>long</th>\n",
       "      <th>sqft_living15</th>\n",
       "      <th>sqft_lot15</th>\n",
       "      <th>price_category</th>\n",
       "    </tr>\n",
       "  </thead>\n",
       "  <tbody>\n",
       "    <tr>\n",
       "      <th>0</th>\n",
       "      <td>0</td>\n",
       "      <td>7129300520</td>\n",
       "      <td>10/13/2014</td>\n",
       "      <td>221900</td>\n",
       "      <td>3</td>\n",
       "      <td>1.00</td>\n",
       "      <td>1180</td>\n",
       "      <td>5650</td>\n",
       "      <td>1.0</td>\n",
       "      <td>7129300520</td>\n",
       "      <td>...</td>\n",
       "      <td>1180</td>\n",
       "      <td>0</td>\n",
       "      <td>1955</td>\n",
       "      <td>0</td>\n",
       "      <td>98178</td>\n",
       "      <td>47.5112</td>\n",
       "      <td>-122.257</td>\n",
       "      <td>1340</td>\n",
       "      <td>5650</td>\n",
       "      <td>Low-level</td>\n",
       "    </tr>\n",
       "    <tr>\n",
       "      <th>1</th>\n",
       "      <td>1</td>\n",
       "      <td>6414100192</td>\n",
       "      <td>12/9/2014</td>\n",
       "      <td>538000</td>\n",
       "      <td>3</td>\n",
       "      <td>2.25</td>\n",
       "      <td>2570</td>\n",
       "      <td>7242</td>\n",
       "      <td>2.0</td>\n",
       "      <td>6414100192</td>\n",
       "      <td>...</td>\n",
       "      <td>2170</td>\n",
       "      <td>400</td>\n",
       "      <td>1951</td>\n",
       "      <td>1991</td>\n",
       "      <td>98125</td>\n",
       "      <td>47.7210</td>\n",
       "      <td>-122.319</td>\n",
       "      <td>1690</td>\n",
       "      <td>7639</td>\n",
       "      <td>Mid-Level 1</td>\n",
       "    </tr>\n",
       "    <tr>\n",
       "      <th>2</th>\n",
       "      <td>2</td>\n",
       "      <td>5631500400</td>\n",
       "      <td>2/25/2015</td>\n",
       "      <td>180000</td>\n",
       "      <td>2</td>\n",
       "      <td>1.00</td>\n",
       "      <td>770</td>\n",
       "      <td>10000</td>\n",
       "      <td>1.0</td>\n",
       "      <td>5631500400</td>\n",
       "      <td>...</td>\n",
       "      <td>770</td>\n",
       "      <td>0</td>\n",
       "      <td>1933</td>\n",
       "      <td>0</td>\n",
       "      <td>98028</td>\n",
       "      <td>47.7379</td>\n",
       "      <td>-122.233</td>\n",
       "      <td>2720</td>\n",
       "      <td>8062</td>\n",
       "      <td>Low-level</td>\n",
       "    </tr>\n",
       "    <tr>\n",
       "      <th>3</th>\n",
       "      <td>3</td>\n",
       "      <td>2487200875</td>\n",
       "      <td>12/9/2014</td>\n",
       "      <td>604000</td>\n",
       "      <td>4</td>\n",
       "      <td>3.00</td>\n",
       "      <td>1960</td>\n",
       "      <td>5000</td>\n",
       "      <td>1.0</td>\n",
       "      <td>2487200875</td>\n",
       "      <td>...</td>\n",
       "      <td>1050</td>\n",
       "      <td>910</td>\n",
       "      <td>1965</td>\n",
       "      <td>0</td>\n",
       "      <td>98136</td>\n",
       "      <td>47.5208</td>\n",
       "      <td>-122.393</td>\n",
       "      <td>1360</td>\n",
       "      <td>5000</td>\n",
       "      <td>Mid-Level 2</td>\n",
       "    </tr>\n",
       "    <tr>\n",
       "      <th>4</th>\n",
       "      <td>4</td>\n",
       "      <td>1954400510</td>\n",
       "      <td>2/18/2015</td>\n",
       "      <td>510000</td>\n",
       "      <td>3</td>\n",
       "      <td>2.00</td>\n",
       "      <td>1680</td>\n",
       "      <td>8080</td>\n",
       "      <td>1.0</td>\n",
       "      <td>1954400510</td>\n",
       "      <td>...</td>\n",
       "      <td>1680</td>\n",
       "      <td>0</td>\n",
       "      <td>1987</td>\n",
       "      <td>0</td>\n",
       "      <td>98074</td>\n",
       "      <td>47.6168</td>\n",
       "      <td>-122.045</td>\n",
       "      <td>1800</td>\n",
       "      <td>7503</td>\n",
       "      <td>Mid-Level 1</td>\n",
       "    </tr>\n",
       "  </tbody>\n",
       "</table>\n",
       "<p>5 rows × 23 columns</p>\n",
       "</div>"
      ],
      "text/plain": [
       "   Unnamed: 0    house_id   date_sold   price  bedrooms  bathrooms  \\\n",
       "0           0  7129300520  10/13/2014  221900         3       1.00   \n",
       "1           1  6414100192   12/9/2014  538000         3       2.25   \n",
       "2           2  5631500400   2/25/2015  180000         2       1.00   \n",
       "3           3  2487200875   12/9/2014  604000         4       3.00   \n",
       "4           4  1954400510   2/18/2015  510000         3       2.00   \n",
       "\n",
       "   sqft_living  sqft_lot  floors  waterfront  ...  sqft_above  sqft_basement  \\\n",
       "0         1180      5650     1.0  7129300520  ...        1180              0   \n",
       "1         2570      7242     2.0  6414100192  ...        2170            400   \n",
       "2          770     10000     1.0  5631500400  ...         770              0   \n",
       "3         1960      5000     1.0  2487200875  ...        1050            910   \n",
       "4         1680      8080     1.0  1954400510  ...        1680              0   \n",
       "\n",
       "   year_built  year_renovated  zipcode      lat     long  sqft_living15  \\\n",
       "0        1955               0    98178  47.5112 -122.257           1340   \n",
       "1        1951            1991    98125  47.7210 -122.319           1690   \n",
       "2        1933               0    98028  47.7379 -122.233           2720   \n",
       "3        1965               0    98136  47.5208 -122.393           1360   \n",
       "4        1987               0    98074  47.6168 -122.045           1800   \n",
       "\n",
       "   sqft_lot15  price_category  \n",
       "0        5650       Low-level  \n",
       "1        7639     Mid-Level 1  \n",
       "2        8062       Low-level  \n",
       "3        5000     Mid-Level 2  \n",
       "4        7503     Mid-Level 1  \n",
       "\n",
       "[5 rows x 23 columns]"
      ]
     },
     "execution_count": 4,
     "metadata": {},
     "output_type": "execute_result"
    }
   ],
   "source": [
    "kc_houses.head()"
   ]
  },
  {
   "cell_type": "markdown",
   "id": "69331848",
   "metadata": {},
   "source": [
    "### 02. Subsetting, wrangling and cleaning data"
   ]
  },
  {
   "cell_type": "markdown",
   "id": "c3c1e62e",
   "metadata": {},
   "source": [
    "Subsetting so that I can use 'date_sold' and price. I will be using average prices as \"price\". "
   ]
  },
  {
   "cell_type": "code",
   "execution_count": 5,
   "id": "231625e4",
   "metadata": {},
   "outputs": [],
   "source": [
    "# Create a subset with 'date,'  and 'price' columns\n",
    "df_sub = kc_houses[['date_sold', 'price']]"
   ]
  },
  {
   "cell_type": "code",
   "execution_count": 6,
   "id": "fce86b36",
   "metadata": {},
   "outputs": [],
   "source": [
    "df_sub['date_sold'] = pd.to_datetime(df_sub['date_sold'])"
   ]
  },
  {
   "cell_type": "code",
   "execution_count": 7,
   "id": "11bb2f5e",
   "metadata": {},
   "outputs": [
    {
     "name": "stdout",
     "output_type": "stream",
     "text": [
      "     date_sold         price\n",
      "0   2014-05-02  5.262515e+05\n",
      "1   2014-05-03  4.669700e+05\n",
      "2   2014-05-04  5.766900e+05\n",
      "3   2014-05-05  5.809386e+05\n",
      "4   2014-05-06  5.340479e+05\n",
      "..         ...           ...\n",
      "367 2015-05-13  5.116239e+05\n",
      "368 2015-05-14  6.034363e+05\n",
      "369 2015-05-15  4.500000e+05\n",
      "370 2015-05-24  4.455000e+05\n",
      "371 2015-05-27  1.310000e+06\n",
      "\n",
      "[372 rows x 2 columns]\n"
     ]
    }
   ],
   "source": [
    "\n",
    "# Calculate the average price for each unique combination of 'date_sold' and 'price'\n",
    "average_prices = df_sub.groupby(['date_sold'])['price'].mean().reset_index()\n",
    "\n",
    "# Display the resulting DataFrame with average prices\n",
    "print(average_prices)"
   ]
  },
  {
   "cell_type": "code",
   "execution_count": 8,
   "id": "eae02a17",
   "metadata": {},
   "outputs": [],
   "source": [
    "df_sub = average_prices"
   ]
  },
  {
   "cell_type": "code",
   "execution_count": 9,
   "id": "99b89ee4",
   "metadata": {},
   "outputs": [
    {
     "data": {
      "text/html": [
       "<div>\n",
       "<style scoped>\n",
       "    .dataframe tbody tr th:only-of-type {\n",
       "        vertical-align: middle;\n",
       "    }\n",
       "\n",
       "    .dataframe tbody tr th {\n",
       "        vertical-align: top;\n",
       "    }\n",
       "\n",
       "    .dataframe thead th {\n",
       "        text-align: right;\n",
       "    }\n",
       "</style>\n",
       "<table border=\"1\" class=\"dataframe\">\n",
       "  <thead>\n",
       "    <tr style=\"text-align: right;\">\n",
       "      <th></th>\n",
       "      <th>date_sold</th>\n",
       "      <th>price</th>\n",
       "    </tr>\n",
       "  </thead>\n",
       "  <tbody>\n",
       "    <tr>\n",
       "      <th>0</th>\n",
       "      <td>2014-05-02</td>\n",
       "      <td>5.262515e+05</td>\n",
       "    </tr>\n",
       "    <tr>\n",
       "      <th>1</th>\n",
       "      <td>2014-05-03</td>\n",
       "      <td>4.669700e+05</td>\n",
       "    </tr>\n",
       "    <tr>\n",
       "      <th>2</th>\n",
       "      <td>2014-05-04</td>\n",
       "      <td>5.766900e+05</td>\n",
       "    </tr>\n",
       "    <tr>\n",
       "      <th>3</th>\n",
       "      <td>2014-05-05</td>\n",
       "      <td>5.809386e+05</td>\n",
       "    </tr>\n",
       "    <tr>\n",
       "      <th>4</th>\n",
       "      <td>2014-05-06</td>\n",
       "      <td>5.340479e+05</td>\n",
       "    </tr>\n",
       "    <tr>\n",
       "      <th>...</th>\n",
       "      <td>...</td>\n",
       "      <td>...</td>\n",
       "    </tr>\n",
       "    <tr>\n",
       "      <th>367</th>\n",
       "      <td>2015-05-13</td>\n",
       "      <td>5.116239e+05</td>\n",
       "    </tr>\n",
       "    <tr>\n",
       "      <th>368</th>\n",
       "      <td>2015-05-14</td>\n",
       "      <td>6.034363e+05</td>\n",
       "    </tr>\n",
       "    <tr>\n",
       "      <th>369</th>\n",
       "      <td>2015-05-15</td>\n",
       "      <td>4.500000e+05</td>\n",
       "    </tr>\n",
       "    <tr>\n",
       "      <th>370</th>\n",
       "      <td>2015-05-24</td>\n",
       "      <td>4.455000e+05</td>\n",
       "    </tr>\n",
       "    <tr>\n",
       "      <th>371</th>\n",
       "      <td>2015-05-27</td>\n",
       "      <td>1.310000e+06</td>\n",
       "    </tr>\n",
       "  </tbody>\n",
       "</table>\n",
       "<p>372 rows × 2 columns</p>\n",
       "</div>"
      ],
      "text/plain": [
       "     date_sold         price\n",
       "0   2014-05-02  5.262515e+05\n",
       "1   2014-05-03  4.669700e+05\n",
       "2   2014-05-04  5.766900e+05\n",
       "3   2014-05-05  5.809386e+05\n",
       "4   2014-05-06  5.340479e+05\n",
       "..         ...           ...\n",
       "367 2015-05-13  5.116239e+05\n",
       "368 2015-05-14  6.034363e+05\n",
       "369 2015-05-15  4.500000e+05\n",
       "370 2015-05-24  4.455000e+05\n",
       "371 2015-05-27  1.310000e+06\n",
       "\n",
       "[372 rows x 2 columns]"
      ]
     },
     "execution_count": 9,
     "metadata": {},
     "output_type": "execute_result"
    }
   ],
   "source": [
    "df_sub"
   ]
  },
  {
   "cell_type": "code",
   "execution_count": 10,
   "id": "abad1ef8",
   "metadata": {},
   "outputs": [
    {
     "data": {
      "text/html": [
       "<div>\n",
       "<style scoped>\n",
       "    .dataframe tbody tr th:only-of-type {\n",
       "        vertical-align: middle;\n",
       "    }\n",
       "\n",
       "    .dataframe tbody tr th {\n",
       "        vertical-align: top;\n",
       "    }\n",
       "\n",
       "    .dataframe thead th {\n",
       "        text-align: right;\n",
       "    }\n",
       "</style>\n",
       "<table border=\"1\" class=\"dataframe\">\n",
       "  <thead>\n",
       "    <tr style=\"text-align: right;\">\n",
       "      <th></th>\n",
       "      <th>price</th>\n",
       "    </tr>\n",
       "    <tr>\n",
       "      <th>datetime</th>\n",
       "      <th></th>\n",
       "    </tr>\n",
       "  </thead>\n",
       "  <tbody>\n",
       "    <tr>\n",
       "      <th>2014-05-02</th>\n",
       "      <td>526251.492537</td>\n",
       "    </tr>\n",
       "    <tr>\n",
       "      <th>2014-05-03</th>\n",
       "      <td>466970.000000</td>\n",
       "    </tr>\n",
       "    <tr>\n",
       "      <th>2014-05-04</th>\n",
       "      <td>576690.000000</td>\n",
       "    </tr>\n",
       "    <tr>\n",
       "      <th>2014-05-05</th>\n",
       "      <td>580938.607143</td>\n",
       "    </tr>\n",
       "    <tr>\n",
       "      <th>2014-05-06</th>\n",
       "      <td>534047.903614</td>\n",
       "    </tr>\n",
       "  </tbody>\n",
       "</table>\n",
       "</div>"
      ],
      "text/plain": [
       "                    price\n",
       "datetime                 \n",
       "2014-05-02  526251.492537\n",
       "2014-05-03  466970.000000\n",
       "2014-05-04  576690.000000\n",
       "2014-05-05  580938.607143\n",
       "2014-05-06  534047.903614"
      ]
     },
     "execution_count": 10,
     "metadata": {},
     "output_type": "execute_result"
    }
   ],
   "source": [
    "# Set the \"Date\" column as the index\n",
    "\n",
    "from datetime import datetime\n",
    "\n",
    "df_sub['datetime'] = pd.to_datetime(df_sub['date_sold']) # Create a datetime column from \"Date.\"\"\n",
    "df_sub = df_sub.set_index('datetime') # Set the datetime as the index of the dataframe.\n",
    "df_sub.drop(['date_sold'], axis=1, inplace=True) # Drop the \"Date\" column.\n",
    "df_sub.head()"
   ]
  },
  {
   "cell_type": "code",
   "execution_count": 11,
   "id": "6936f51f",
   "metadata": {},
   "outputs": [
    {
     "data": {
      "text/plain": [
       "[<matplotlib.lines.Line2D at 0x1e0e6895f90>]"
      ]
     },
     "execution_count": 11,
     "metadata": {},
     "output_type": "execute_result"
    },
    {
     "data": {
      "image/png": "[encoded data removed]",
      "text/plain": [
       "<Figure size 1500x500 with 1 Axes>"
      ]
     },
     "metadata": {},
     "output_type": "display_data"
    }
   ],
   "source": [
    "# Plot the new data set\n",
    "\n",
    "plt.figure(figsize=(15,5), dpi=100)\n",
    "plt.plot(df_sub)"
   ]
  },
  {
   "cell_type": "code",
   "execution_count": 12,
   "id": "8b1714f1",
   "metadata": {},
   "outputs": [
    {
     "data": {
      "text/plain": [
       "price    0\n",
       "dtype: int64"
      ]
     },
     "execution_count": 12,
     "metadata": {},
     "output_type": "execute_result"
    }
   ],
   "source": [
    "# Check for missing values (you shouldn't have any)\n",
    "\n",
    "df_sub.isnull().sum() "
   ]
  },
  {
   "cell_type": "code",
   "execution_count": 13,
   "id": "0c4063fb",
   "metadata": {},
   "outputs": [
    {
     "data": {
      "text/plain": [
       "0"
      ]
     },
     "execution_count": 13,
     "metadata": {},
     "output_type": "execute_result"
    }
   ],
   "source": [
    "# Check for dups\n",
    "dups = df_sub.duplicated()\n",
    "dups.sum()"
   ]
  },
  {
   "cell_type": "markdown",
   "id": "965adfde",
   "metadata": {},
   "source": [
    "The shape of the graph indicates stationarity, however, I will be testing in the next step. "
   ]
  },
  {
   "cell_type": "markdown",
   "id": "ff42a44e",
   "metadata": {},
   "source": [
    "### 03. Testing for stationarity"
   ]
  },
  {
   "cell_type": "code",
   "execution_count": 14,
   "id": "c1008089",
   "metadata": {},
   "outputs": [
    {
     "name": "stdout",
     "output_type": "stream",
     "text": [
      "Dickey-Fuller Stationarity test:\n",
      "Test Statistic                 -19.296141\n",
      "p-value                          0.000000\n",
      "Number of Lags Used              0.000000\n",
      "Number of Observations Used    371.000000\n",
      "Critical Value (1%)             -3.448100\n",
      "Critical Value (5%)             -2.869362\n",
      "Critical Value (10%)            -2.570937\n",
      "dtype: float64\n"
     ]
    }
   ],
   "source": [
    "from statsmodels.tsa.stattools import adfuller # Import the adfuller() function\n",
    "\n",
    "def dickey_fuller(timeseries): # Define the function\n",
    "    # Perform the Dickey-Fuller test:\n",
    "    print ('Dickey-Fuller Stationarity test:')\n",
    "    test = adfuller(timeseries, autolag='AIC')\n",
    "    result = pd.Series(test[0:4], index=['Test Statistic','p-value','Number of Lags Used','Number of Observations Used'])\n",
    "    for key,value in test[4].items():\n",
    "       result['Critical Value (%s)'%key] = value\n",
    "    print (result)\n",
    "\n",
    "# Apply the test using the function on the time series\n",
    "dickey_fuller(df_sub['price'])"
   ]
  },
  {
   "cell_type": "markdown",
   "id": "d86bf7a7",
   "metadata": {},
   "source": [
    "The very large negative value suggests strong evidence against the null hypothesis.The p-value is very close to zero. A small p-value (typically less than 0.05) indicates that the null hypothesis can be rejected. In this case, I can reject the presence of a unit root, suggesting that the time series is stationary, as suspected."
   ]
  }
 ],
 "metadata": {
  "kernelspec": {
   "display_name": "Python 3 (ipykernel)",
   "language": "python",
   "name": "python3"
  },
  "language_info": {
   "codemirror_mode": {
    "name": "ipython",
    "version": 3
   },
   "file_extension": ".py",
   "mimetype": "text/x-python",
   "name": "python",
   "nbconvert_exporter": "python",
   "pygments_lexer": "ipython3",
   "version": "3.11.5"
  }
 },
 "nbformat": 4,
 "nbformat_minor": 5
}
